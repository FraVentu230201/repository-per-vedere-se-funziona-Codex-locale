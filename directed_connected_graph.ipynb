{
  "cells": [
    {
      "cell_type": "markdown",
      "metadata": {},
      "source": [
        "# Grafo orientato e connesso\n",
        "Questo notebook genera e visualizza un grafo orientato e fortemente connesso utilizzando NetworkX."
      ]
    },
    {
      "cell_type": "code",
      "execution_count": null,
      "metadata": {},
      "outputs": [],
      "source": [
        "import networkx as nx\n",
        "import matplotlib.pyplot as plt\n",
        "\n",
        "G = nx.DiGraph()\n",
        "edges = [\n",
        "    (\"A\", \"B\"),\n",
        "    (\"B\", \"C\"),\n",
        "    (\"C\", \"D\"),\n",
        "    (\"D\", \"A\"),\n",
        "    (\"A\", \"C\"),\n",
        "    (\"B\", \"D\")\n",
        "]\n",
        "G.add_edges_from(edges)\n",
        "\n",
        "fig, ax = plt.subplots(figsize=(6, 4))\n",
        "pos = nx.circular_layout(G)\n",
        "nx.draw_networkx(G, pos=pos, with_labels=True, node_color='lightblue', arrows=True, ax=ax)\n",
        "ax.set_title('Grafo orientato e fortemente connesso')\n",
        "plt.axis('off')\n",
        "plt.show()\n"
      ]
    }
  ],
  "metadata": {
    "kernelspec": {
      "display_name": "Python 3",
      "language": "python",
      "name": "python3"
    },
    "language_info": {
      "codemirror_mode": {
        "name": "ipython",
        "version": 3
      },
      "file_extension": ".py",
      "mimetype": "text/x-python",
      "name": "python",
      "nbconvert_exporter": "python",
      "pygments_lexer": "ipython3",
      "version": "3.10"
    }
  },
  "nbformat": 4,
  "nbformat_minor": 5
}
