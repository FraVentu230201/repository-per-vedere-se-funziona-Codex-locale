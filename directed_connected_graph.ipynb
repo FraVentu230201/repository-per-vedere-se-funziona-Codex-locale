{
  "cells": [
    {
      "cell_type": "markdown",
      "metadata": {},
      "source": [
        "# Grafo orientato e fortemente connesso\n",
        "Il notebook genera un grafo orientato con 12 nodi e numerosi archi addizionali per aumentarne la complessità, mantenendolo fortemente connesso."
      ]
    },
    {
      "cell_type": "code",
      "execution_count": null,
      "metadata": {},
      "outputs": [],
      "source": [
        "import networkx as nx\n",
        "import matplotlib.pyplot as plt\n",
        "\n",
        "G = nx.DiGraph()\n",
        "nodes = [f\"v{i}\" for i in range(1, 13)]\n",
        "G.add_nodes_from(nodes)\n",
        "\n",
        "cycle_edges = [(nodes[i], nodes[(i + 1) % len(nodes)]) for i in range(len(nodes))]\n",
        "chord_edges = [\n",
        "    (\"v1\", \"v5\"), (\"v5\", \"v9\"), (\"v9\", \"v1\"),\n",
        "    (\"v2\", \"v7\"), (\"v7\", \"v11\"), (\"v11\", \"v3\"),\n",
        "    (\"v3\", \"v8\"), (\"v8\", \"v12\"), (\"v12\", \"v4\"),\n",
        "    (\"v4\", \"v10\"), (\"v10\", \"v6\"), (\"v6\", \"v2\"),\n",
        "    (\"v6\", \"v9\"), (\"v9\", \"v12\"), (\"v12\", \"v7\"),\n",
        "    (\"v7\", \"v4\"), (\"v4\", \"v1\"), (\"v1\", \"v8\"),\n",
        "    (\"v8\", \"v5\"), (\"v5\", \"v2\"), (\"v2\", \"v10\"),\n",
        "    (\"v10\", \"v11\"), (\"v11\", \"v6\"), (\"v6\", \"v3\"),\n",
        "    (\"v3\", \"v9\"), (\"v9\", \"v4\"), (\"v4\", \"v6\"),\n",
        "    (\"v12\", \"v2\"), (\"v8\", \"v10\")\n",
        "]\n",
        "\n",
        "G.add_edges_from(cycle_edges + chord_edges)\n",
        "\n",
        "print(f\"Numero di nodi: {G.number_of_nodes()}\")\n",
        "print(f\"Numero di archi: {G.number_of_edges()}\")\n",
        "print(f\"Fortemente connesso: {nx.is_strongly_connected(G)}\")\n",
        "\n",
        "fig, ax = plt.subplots(figsize=(8, 6))\n",
        "pos = nx.spring_layout(G, seed=42)\n",
        "nx.draw_networkx(\n",
        "    G,\n",
        "    pos=pos,\n",
        "    with_labels=True,\n",
        "    node_color='lightblue',\n",
        "    arrows=True,\n",
        "    arrowstyle='-|>',\n",
        "    arrowsize=12,\n",
        "    width=1.2,\n",
        "    ax=ax\n",
        ")\n",
        "ax.set_title('Grafo orientato e fortemente connesso a 12 nodi')\n",
        "plt.axis('off')\n",
        "plt.show()\n"
      ]
    }
  ],
  "metadata": {
    "kernelspec": {
      "display_name": "Python 3",
      "language": "python",
      "name": "python3"
    },
    "language_info": {
      "codemirror_mode": {
        "name": "ipython",
        "version": 3
      },
      "file_extension": ".py",
      "mimetype": "text/x-python",
      "name": "python",
      "nbconvert_exporter": "python",
      "pygments_lexer": "ipython3",
      "version": "3.10"
    }
  },
  "nbformat": 4,
  "nbformat_minor": 5
}
